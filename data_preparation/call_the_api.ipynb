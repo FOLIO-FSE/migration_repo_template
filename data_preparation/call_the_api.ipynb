{
 "cells": [
  {
   "cell_type": "markdown",
   "metadata": {},
   "source": [
    "# Calling the FOLIO API within Jupyter and FolioClient\n"
   ]
  },
  {
   "cell_type": "markdown",
   "metadata": {},
   "source": [
    "### Requirements\n",
    "\n",
    "1. Create `.env` or `.env.local` file\n",
    "   ```\n",
    "   TENANT_ID=\"TENANT-ID-GOES-HERE\"\n",
    "   OKAPI_URL=\"https://okapi-DOMAINGOESHERE.folio.ebsco.com\"\n",
    "   USERNAME=\"USERNAME-GOES-HERE\"\n",
    "   PW=\"PASSWORD-GOES-HERE\"\n",
    "   ```\n",
    "2. Save file\n"
   ]
  },
  {
   "cell_type": "markdown",
   "metadata": {},
   "source": [
    "### 🚨 IMPORTANT 🚨\n",
    "\n",
    "- `.env` and `.env.local` are listed in `.gitignore`. Even so, be **VERY** careful to **NOT** commit your username and password to GitHub!\n",
    "- If you change the env variables after running the notebook, you need to RESTART the notebook to load the new env variables.\n"
   ]
  },
  {
   "cell_type": "code",
   "execution_count": null,
   "metadata": {},
   "outputs": [],
   "source": [
    "import os\n",
    "import dotenv\n",
    "import json\n",
    "import folioclient\n",
    "import random\n",
    "import folio_uuid\n",
    "from folio_uuid import FOLIONamespaces\n",
    "\n",
    "dotenv.load_dotenv(\"../.env.local\")\n",
    "env = os.environ\n"
   ]
  },
  {
   "cell_type": "code",
   "execution_count": null,
   "metadata": {},
   "outputs": [],
   "source": [
    "help(folioclient.FolioClient)"
   ]
  },
  {
   "cell_type": "code",
   "execution_count": null,
   "metadata": {},
   "outputs": [],
   "source": [
    "# Create instance of FolioClient\n",
    "fc = folioclient.FolioClient(\n",
    "    tenant_id=env[\"TENANT_ID\"],\n",
    "    gateway_url=env[\"OKAPI_URL\"],\n",
    "    username=env[\"USERNAME\"],\n",
    "    password=env[\"PW\"],\n",
    ")"
   ]
  },
  {
   "cell_type": "markdown",
   "metadata": {},
   "source": [
    "### GET"
   ]
  },
  {
   "cell_type": "code",
   "execution_count": null,
   "metadata": {},
   "outputs": [],
   "source": [
    "help(fc.folio_get)"
   ]
  },
  {
   "cell_type": "code",
   "execution_count": null,
   "metadata": {},
   "outputs": [],
   "source": [
    "# Example call with folio_get\n",
    "one_instance = fc.folio_get(\n",
    "    path=\"/instance-storage/instances\",\n",
    "    key=\"instances\",\n",
    "    query_params={\"limit\": 1},\n",
    ")\n",
    "\n",
    "print(one_instance)"
   ]
  },
  {
   "cell_type": "code",
   "execution_count": null,
   "metadata": {},
   "outputs": [],
   "source": [
    "help(fc.folio_get_all)"
   ]
  },
  {
   "cell_type": "code",
   "execution_count": null,
   "metadata": {},
   "outputs": [],
   "source": [
    "# Example GET call with folio_get_all. This handles offset for you. \n",
    "# folio_get_all creates a generator object that can only be iterated on once.\n",
    "# folio_get_all requires patience for really big datasets!\n",
    "\n",
    "all_users = fc.folio_get_all(\n",
    "    path=\"/users\",\n",
    "    key=\"users\",\n",
    ")\n",
    "\n",
    "all_user_ids = [i[\"id\"] for i in all_users]\n",
    "\n",
    "random.choice(all_user_ids)"
   ]
  },
  {
   "cell_type": "code",
   "execution_count": null,
   "metadata": {},
   "outputs": [],
   "source": [
    "client = fc.get_folio_http_client()\n",
    "help(client.get)"
   ]
  },
  {
   "cell_type": "code",
   "execution_count": null,
   "metadata": {},
   "outputs": [],
   "source": [
    "# Example GET call with http client\n",
    "resp = client.get(\n",
    "    url=fc.gateway_url + \"/instance-storage/instances\",\n",
    "    headers=fc.okapi_headers,\n",
    "    params={\"limit\": 1},\n",
    ")\n",
    "one_instance = resp.json()[\"instances\"]\n",
    "print(one_instance)"
   ]
  },
  {
   "cell_type": "code",
   "execution_count": null,
   "metadata": {},
   "outputs": [],
   "source": [
    "# Response handling with the http_client\n",
    "\n",
    "client = fc.get_folio_http_client()\n",
    "test_endpoints = [\n",
    "    \"/not-a-real-endpoint\",\n",
    "    \"/instance-storage/instances\"\n",
    "]\n",
    "for endpoint in test_endpoints:\n",
    "    resp = client.get(\n",
    "        url= fc.gateway_url + endpoint,\n",
    "        headers=fc.okapi_headers,\n",
    "        params={\"limit\":1}\n",
    "    )\n",
    "    print_statement = [str(resp.status_code), endpoint]\n",
    "    if resp.status_code > 204:\n",
    "        # If the call was unsuccessful...\n",
    "        print_statement.append(resp.text)\n",
    "    else:\n",
    "        one_instance = resp.json()[\"instances\"]\n",
    "        print_statement.append(json.dumps(one_instance))\n",
    "    print(\"\\t\".join(print_statement))"
   ]
  },
  {
   "cell_type": "markdown",
   "metadata": {},
   "source": [
    "### POST, PUT, DELETE"
   ]
  },
  {
   "cell_type": "code",
   "execution_count": null,
   "metadata": {},
   "outputs": [],
   "source": [
    "## BUILD FAKE USER TO UPLOAD, UPDATE, AND DELETE\n",
    "\n",
    "fake_user_identifier = \"test6789\"\n",
    "\n",
    "patron_group = fc.folio_get(\"/groups?query=group==zEBSCO*\", \"usergroups\")[0][\"id\"]\n",
    "\n",
    "user_id = str(\n",
    "    folio_uuid.FolioUUID(\n",
    "        okapi_url=fc.gateway_url,\n",
    "        folio_object_type=FOLIONamespaces.users,\n",
    "        legacy_identifier=fake_user_identifier,\n",
    "    )\n",
    ")\n",
    "\n",
    "new_fake_user = {\n",
    "    \"id\": user_id,\n",
    "    \"externalSystemId\": fake_user_identifier,\n",
    "    \"username\": fake_user_identifier,\n",
    "    \"barcode\": fake_user_identifier,\n",
    "    \"patronGroup\": patron_group,\n",
    "    \"personal\": {\"lastName\": \"Test\", \"firstName\": \"Data IC\"},\n",
    "}"
   ]
  },
  {
   "cell_type": "code",
   "execution_count": null,
   "metadata": {},
   "outputs": [],
   "source": [
    "help(fc.folio_post)"
   ]
  },
  {
   "cell_type": "code",
   "execution_count": null,
   "metadata": {},
   "outputs": [],
   "source": [
    "# Example POST call with folio_post\n",
    "# You do NOT need to stringify the JSON for folio_post and folio_put\n",
    "\n",
    "new_user = fc.folio_post(\n",
    "    path=\"/users\",\n",
    "    payload=new_fake_user\n",
    ")"
   ]
  },
  {
   "cell_type": "code",
   "execution_count": null,
   "metadata": {},
   "outputs": [],
   "source": [
    "help(client.put)"
   ]
  },
  {
   "cell_type": "code",
   "execution_count": null,
   "metadata": {},
   "outputs": [],
   "source": [
    "# Example PUT call with client\n",
    "# You DO need to stringify the JSON for client.post or client.put\n",
    "\n",
    "new_fake_user[\"barcode\"] = \"new_barcode_12345\"\n",
    "\n",
    "client = fc.get_folio_http_client()\n",
    "\n",
    "resp = client.put(\n",
    "    fc.gateway_url + f\"/users/{new_fake_user['id']}\",\n",
    "    headers=fc.okapi_headers,\n",
    "    data=json.dumps(new_fake_user),\n",
    ")\n",
    "\n",
    "print(resp.status_code)"
   ]
  },
  {
   "cell_type": "code",
   "execution_count": null,
   "metadata": {},
   "outputs": [],
   "source": [
    "help(client.delete)"
   ]
  },
  {
   "cell_type": "code",
   "execution_count": null,
   "metadata": {},
   "outputs": [],
   "source": [
    "# Example DELETE call with client.\n",
    "# There is no folio_delete function (as of 08/29/2025)\n",
    "\n",
    "client = fc.get_folio_http_client()\n",
    "resp = client.delete(\n",
    "    fc.gateway_url + f\"/users/{new_fake_user['id']}\",\n",
    "    headers=fc.okapi_headers,\n",
    ")\n",
    "\n",
    "print(resp.status_code)"
   ]
  }
 ],
 "metadata": {
  "kernelspec": {
   "display_name": ".venv",
   "language": "python",
   "name": "python3"
  },
  "language_info": {
   "codemirror_mode": {
    "name": "ipython",
    "version": 3
   },
   "file_extension": ".py",
   "mimetype": "text/x-python",
   "name": "python",
   "nbconvert_exporter": "python",
   "pygments_lexer": "ipython3",
   "version": "3.13.1"
  }
 },
 "nbformat": 4,
 "nbformat_minor": 2
}
